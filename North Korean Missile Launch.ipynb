{
 "cells": [
  {
   "cell_type": "markdown",
   "metadata": {},
   "source": [
    "# Chris White\n",
    "## Term Project Milestone 1\n",
    "## 04 April 2021\n",
    "\n",
    "\n",
    "\n",
    "For this project I will be using the North Korean Missile Test Database found on Kaggle. I am familiar with this data due to work so this will be fun to apply lessons learned from the course to work material in an unclassified setting. I will perform graphical analysis on the .csv file initially to determine the direction to head in as we continue progress through the course. A short description of the dataset is provided from Kaggle. \n",
    "“The James Martin Center for Nonproliferation Studies (CNS) North Korea Missile Test Database is the first database to record flight tests of all missiles launched by North Korea capable of delivering a payload of at least 500 kilograms (1102.31 pounds) a distance of at least 300 kilometers (186.4 miles). The database captures advancements in North Korea's missile program by documenting all such tests since the first one occurred in April 1984, and will be routinely updated as events warrant.” (Kaggle, 2021). \n",
    "This dataset is covers North Korean missile testing from 1984 through April of 2017. Below you find bar charts of missile type and missile name. You will also find a pie chart of missile test success rates and an additional pie chart of whether or not the missile tests were confirmed versus unconfirmed in the database. \n",
    "Reference: \n",
    "Kaggle. (2021). North Korea Missile Test Database North Korean missile tests since 1984. Retrieved from https://www.kaggle.com/fanbyprinciple/north-korea-missile-test-database"
   ]
  },
  {
   "cell_type": "code",
   "execution_count": 1,
   "metadata": {},
   "outputs": [],
   "source": [
    "import pandas as pds"
   ]
  },
  {
   "cell_type": "code",
   "execution_count": 5,
   "metadata": {},
   "outputs": [
    {
     "data": {
      "text/html": [
       "<div>\n",
       "<style scoped>\n",
       "    .dataframe tbody tr th:only-of-type {\n",
       "        vertical-align: middle;\n",
       "    }\n",
       "\n",
       "    .dataframe tbody tr th {\n",
       "        vertical-align: top;\n",
       "    }\n",
       "\n",
       "    .dataframe thead th {\n",
       "        text-align: right;\n",
       "    }\n",
       "</style>\n",
       "<table border=\"1\" class=\"dataframe\">\n",
       "  <thead>\n",
       "    <tr style=\"text-align: right;\">\n",
       "      <th></th>\n",
       "      <th>F1</th>\n",
       "      <th>Date</th>\n",
       "      <th>Date Entered/Updated</th>\n",
       "      <th>Missile Name</th>\n",
       "      <th>Missile Type</th>\n",
       "      <th>Launch Agency/Authority</th>\n",
       "      <th>Facility Name</th>\n",
       "      <th>Facility Location</th>\n",
       "      <th>Other Name</th>\n",
       "      <th>Facility Latitude</th>\n",
       "      <th>Facility Longitude</th>\n",
       "      <th>Landing Location</th>\n",
       "      <th>Apogee (km)</th>\n",
       "      <th>Distance Travelled (km)</th>\n",
       "      <th>Confirmation Status</th>\n",
       "      <th>Success</th>\n",
       "      <th>Additional Information</th>\n",
       "      <th>Source(s)</th>\n",
       "    </tr>\n",
       "  </thead>\n",
       "  <tbody>\n",
       "    <tr>\n",
       "      <th>0</th>\n",
       "      <td>1</td>\n",
       "      <td>9-Apr-84</td>\n",
       "      <td>23-Dec-16</td>\n",
       "      <td>Scud-B</td>\n",
       "      <td>SRBM</td>\n",
       "      <td>NaN</td>\n",
       "      <td>Tonghae Satellite Launching Ground</td>\n",
       "      <td>Hwadae County, North Hamgyong Province</td>\n",
       "      <td>Musudan-ri</td>\n",
       "      <td>40.8499966</td>\n",
       "      <td>129.666664</td>\n",
       "      <td>Unknown</td>\n",
       "      <td>Unknown</td>\n",
       "      <td>Unknown</td>\n",
       "      <td>Confirmed</td>\n",
       "      <td>Success</td>\n",
       "      <td>The 1984 tests possibly took place over the co...</td>\n",
       "      <td>http://www.nti.org/media/pdfs/north_korea_miss...</td>\n",
       "    </tr>\n",
       "    <tr>\n",
       "      <th>1</th>\n",
       "      <td>2</td>\n",
       "      <td>9-Apr-84</td>\n",
       "      <td>23-Dec-16</td>\n",
       "      <td>Scud-B</td>\n",
       "      <td>SRBM</td>\n",
       "      <td>NaN</td>\n",
       "      <td>Tonghae Satellite Launching Ground</td>\n",
       "      <td>Hwadae County, North Hamgyong Province</td>\n",
       "      <td>Musudan-ri</td>\n",
       "      <td>40.8499966</td>\n",
       "      <td>129.666664</td>\n",
       "      <td>Unknown</td>\n",
       "      <td>Unknown</td>\n",
       "      <td>Unknown</td>\n",
       "      <td>Confirmed</td>\n",
       "      <td>Success</td>\n",
       "      <td>NaN</td>\n",
       "      <td>http://www.nti.org/media/pdfs/north_korea_miss...</td>\n",
       "    </tr>\n",
       "    <tr>\n",
       "      <th>2</th>\n",
       "      <td>3</td>\n",
       "      <td>9-Apr-84</td>\n",
       "      <td>23-Dec-16</td>\n",
       "      <td>Scud-B</td>\n",
       "      <td>SRBM</td>\n",
       "      <td>NaN</td>\n",
       "      <td>Tonghae Satellite Launching Ground</td>\n",
       "      <td>Hwadae County, North Hamgyong Province</td>\n",
       "      <td>Musudan-ri</td>\n",
       "      <td>40.8499966</td>\n",
       "      <td>129.666664</td>\n",
       "      <td>Unknown</td>\n",
       "      <td>200</td>\n",
       "      <td>Unknown</td>\n",
       "      <td>Confirmed</td>\n",
       "      <td>Success</td>\n",
       "      <td>NaN</td>\n",
       "      <td>http://www.astronautix.com/g/gitdaeryung.html;...</td>\n",
       "    </tr>\n",
       "    <tr>\n",
       "      <th>3</th>\n",
       "      <td>4</td>\n",
       "      <td>Sep-84</td>\n",
       "      <td>23-Dec-16</td>\n",
       "      <td>Scud-B</td>\n",
       "      <td>SRBM</td>\n",
       "      <td>NaN</td>\n",
       "      <td>Tonghae Satellite Launching Ground</td>\n",
       "      <td>Hwadae County, North Hamgyong Province</td>\n",
       "      <td>Musudan-ri</td>\n",
       "      <td>40.8499966</td>\n",
       "      <td>129.666664</td>\n",
       "      <td>Unknown</td>\n",
       "      <td>Unknown</td>\n",
       "      <td>Unknown</td>\n",
       "      <td>Confirmed</td>\n",
       "      <td>Failure</td>\n",
       "      <td>NaN</td>\n",
       "      <td>Joseph S. Bermudez, \"A History of Ballistic Mi...</td>\n",
       "    </tr>\n",
       "    <tr>\n",
       "      <th>4</th>\n",
       "      <td>5</td>\n",
       "      <td>Sep-84</td>\n",
       "      <td>23-Dec-16</td>\n",
       "      <td>Scud-B</td>\n",
       "      <td>SRBM</td>\n",
       "      <td>NaN</td>\n",
       "      <td>Tonghae Satellite Launching Ground</td>\n",
       "      <td>Hwadae County, North Hamgyong Province</td>\n",
       "      <td>Musudan-ri</td>\n",
       "      <td>40.8499966</td>\n",
       "      <td>129.666664</td>\n",
       "      <td>Unknown</td>\n",
       "      <td>200</td>\n",
       "      <td>Unknown</td>\n",
       "      <td>Confirmed</td>\n",
       "      <td>Failure</td>\n",
       "      <td>NaN</td>\n",
       "      <td>http://www.astronautix.com/g/gitdaeryung.html;...</td>\n",
       "    </tr>\n",
       "  </tbody>\n",
       "</table>\n",
       "</div>"
      ],
      "text/plain": [
       "   F1      Date Date Entered/Updated Missile Name Missile Type  \\\n",
       "0   1  9-Apr-84            23-Dec-16       Scud-B         SRBM   \n",
       "1   2  9-Apr-84            23-Dec-16       Scud-B         SRBM   \n",
       "2   3  9-Apr-84            23-Dec-16       Scud-B         SRBM   \n",
       "3   4    Sep-84            23-Dec-16       Scud-B         SRBM   \n",
       "4   5    Sep-84            23-Dec-16       Scud-B         SRBM   \n",
       "\n",
       "  Launch Agency/Authority                       Facility Name  \\\n",
       "0                     NaN  Tonghae Satellite Launching Ground   \n",
       "1                     NaN  Tonghae Satellite Launching Ground   \n",
       "2                     NaN  Tonghae Satellite Launching Ground   \n",
       "3                     NaN  Tonghae Satellite Launching Ground   \n",
       "4                     NaN  Tonghae Satellite Launching Ground   \n",
       "\n",
       "                        Facility Location  Other Name Facility Latitude  \\\n",
       "0  Hwadae County, North Hamgyong Province  Musudan-ri        40.8499966   \n",
       "1  Hwadae County, North Hamgyong Province  Musudan-ri        40.8499966   \n",
       "2  Hwadae County, North Hamgyong Province  Musudan-ri        40.8499966   \n",
       "3  Hwadae County, North Hamgyong Province  Musudan-ri        40.8499966   \n",
       "4  Hwadae County, North Hamgyong Province  Musudan-ri        40.8499966   \n",
       "\n",
       "  Facility Longitude Landing Location Apogee (km) Distance Travelled (km)  \\\n",
       "0         129.666664          Unknown     Unknown                 Unknown   \n",
       "1         129.666664          Unknown     Unknown                 Unknown   \n",
       "2         129.666664          Unknown         200                 Unknown   \n",
       "3         129.666664          Unknown     Unknown                 Unknown   \n",
       "4         129.666664          Unknown         200                 Unknown   \n",
       "\n",
       "  Confirmation Status  Success  \\\n",
       "0           Confirmed  Success   \n",
       "1           Confirmed  Success   \n",
       "2           Confirmed  Success   \n",
       "3           Confirmed  Failure   \n",
       "4           Confirmed  Failure   \n",
       "\n",
       "                              Additional Information  \\\n",
       "0  The 1984 tests possibly took place over the co...   \n",
       "1                                                NaN   \n",
       "2                                                NaN   \n",
       "3                                                NaN   \n",
       "4                                                NaN   \n",
       "\n",
       "                                           Source(s)  \n",
       "0  http://www.nti.org/media/pdfs/north_korea_miss...  \n",
       "1  http://www.nti.org/media/pdfs/north_korea_miss...  \n",
       "2  http://www.astronautix.com/g/gitdaeryung.html;...  \n",
       "3  Joseph S. Bermudez, \"A History of Ballistic Mi...  \n",
       "4  http://www.astronautix.com/g/gitdaeryung.html;...  "
      ]
     },
     "execution_count": 5,
     "metadata": {},
     "output_type": "execute_result"
    }
   ],
   "source": [
    "df = pds.read_csv('north_korea_missile_tests_database.csv')\n",
    "df.head()"
   ]
  },
  {
   "cell_type": "code",
   "execution_count": 6,
   "metadata": {},
   "outputs": [
    {
     "name": "stdout",
     "output_type": "stream",
     "text": [
      "The dimension of the table is:  (106, 18)\n"
     ]
    }
   ],
   "source": [
    "print(\"The dimension of the table is: \", df.shape)"
   ]
  },
  {
   "cell_type": "code",
   "execution_count": 7,
   "metadata": {},
   "outputs": [],
   "source": [
    "import matplotlib.pyplot as plt"
   ]
  },
  {
   "cell_type": "code",
   "execution_count": 8,
   "metadata": {},
   "outputs": [
    {
     "data": {
      "image/png": "[encoded data removed]",
      "text/plain": [
       "<Figure size 720x576 with 1 Axes>"
      ]
     },
     "metadata": {
      "needs_background": "light"
     },
     "output_type": "display_data"
    }
   ],
   "source": [
    "ax = df['Missile Name'].value_counts().sort_index().plot(kind='bar', fontsize=14, figsize=(10,8))\n",
    "ax.set_title('Missiles By Name\\n', fontsize=20)\n",
    "ax.set_xlabel('Missile Names', fontsize=18)\n",
    "ax.set_ylabel('Count', fontsize=18);\n",
    "plt.xticks(rotation=45)\n",
    "plt.show()"
   ]
  },
  {
   "cell_type": "markdown",
   "metadata": {},
   "source": [
    "## Scud-C, KN-02, and Nodong are the Top Three Missiles fired per the dataset"
   ]
  },
  {
   "cell_type": "code",
   "execution_count": 9,
   "metadata": {},
   "outputs": [
    {
     "data": {
      "image/png": "[encoded data removed]",
      "text/plain": [
       "<Figure size 720x576 with 1 Axes>"
      ]
     },
     "metadata": {
      "needs_background": "light"
     },
     "output_type": "display_data"
    }
   ],
   "source": [
    "ax = df['Missile Type'].value_counts().sort_index().plot(kind='bar', fontsize=14, figsize=(10,8))\n",
    "ax.set_title('Missiles By Type\\n', fontsize=20)\n",
    "ax.set_xlabel('Missile Type', fontsize=18)\n",
    "ax.set_ylabel('Count', fontsize=18);\n",
    "plt.xticks(rotation=45)\n",
    "plt.show()"
   ]
  },
  {
   "cell_type": "markdown",
   "metadata": {},
   "source": [
    "## SRBMs and MRBMs are most common amongst the dataset"
   ]
  },
  {
   "cell_type": "code",
   "execution_count": 10,
   "metadata": {},
   "outputs": [
    {
     "data": {
      "image/png": "[encoded data removed]",
      "text/plain": [
       "<Figure size 720x576 with 1 Axes>"
      ]
     },
     "metadata": {},
     "output_type": "display_data"
    }
   ],
   "source": [
    "import seaborn as sns\n",
    "# The pie chart using matplotlib\n",
    "sns.set_style(\"whitegrid\")\n",
    "ax=plt.subplots(1,1,figsize=(10,8))\n",
    "df['Success'].value_counts().plot.pie(autopct='%1.1f%%',figsize=(10,8))\n",
    "plt.title(\"Missile Test Success\")\n",
    "plt.ylabel(' ')\n",
    "plt.show()"
   ]
  },
  {
   "cell_type": "markdown",
   "metadata": {},
   "source": [
    "## This Pie Chart is a quick visual refernence to the success rates of their test launches with neartly 75% success"
   ]
  },
  {
   "cell_type": "code",
   "execution_count": 11,
   "metadata": {},
   "outputs": [
    {
     "data": {
      "image/png": "[encoded data removed]",
      "text/plain": [
       "<Figure size 720x576 with 1 Axes>"
      ]
     },
     "metadata": {},
     "output_type": "display_data"
    }
   ],
   "source": [
    "# The pie chart using matplotlib\n",
    "sns.set_style(\"whitegrid\")\n",
    "ax=plt.subplots(1,1,figsize=(10,8))\n",
    "df['Confirmation Status'].value_counts().plot.pie(autopct='%1.1f%%',figsize=(10,8))\n",
    "plt.title(\"Confirmed vs. Unconfirmed\")\n",
    "plt.ylabel(' ')\n",
    "plt.show()"
   ]
  },
  {
   "cell_type": "markdown",
   "metadata": {},
   "source": [
    "## The Pie Chart displays the percentage of confirmed versus unconfirmed missile tests with over 90% confirmed"
   ]
  },
  {
   "cell_type": "markdown",
   "metadata": {},
   "source": [
    "## Conclusion\n",
    "\n",
    "### Overall this is a quick visual representation of the missile tests by type, name, success and confirmation. \n",
    "### There is additional data to be sorted as well, for instance the source information could be useful.\n",
    "### Potentially plotting out the launch locations as well.\n",
    "### There is are some fields that I will most likely strip out of the data set as well, one instance is the date entered."
   ]
  },
  {
   "cell_type": "markdown",
   "metadata": {},
   "source": [
    "<a id=\"cell33\"></a>"
   ]
  },
  {
   "cell_type": "markdown",
   "metadata": {},
   "source": [
    "# Begin Milestone 2\n",
    "\n",
    "## Based on feedback what am I attempting to predict. Let's try to predict when North Korea might launch missiles the most and what type."
   ]
  },
  {
   "cell_type": "code",
   "execution_count": 12,
   "metadata": {},
   "outputs": [
    {
     "name": "stdout",
     "output_type": "stream",
     "text": [
      "   Success_Failure  Success_Success  Success_Unknown  \\\n",
      "0                0                1                0   \n",
      "1                0                1                0   \n",
      "2                0                1                0   \n",
      "3                1                0                0   \n",
      "4                1                0                0   \n",
      "5                1                0                0   \n",
      "6                0                0                1   \n",
      "7                1                0                0   \n",
      "\n",
      "   Confirmation Status_Confirmed  Confirmation Status_Unconfirmed  \n",
      "0                              1                                0  \n",
      "1                              1                                0  \n",
      "2                              1                                0  \n",
      "3                              1                                0  \n",
      "4                              1                                0  \n",
      "5                              1                                0  \n",
      "6                              0                                1  \n",
      "7                              0                                1  \n"
     ]
    }
   ],
   "source": [
    "# Converting to dummy variables instead of strings\n",
    "\n",
    "cat_features = ['Success', 'Confirmation Status']\n",
    "data_cat = df[cat_features]\n",
    "# One Hot Encoding \n",
    "data_cat_dummies = pds.get_dummies(data_cat)\n",
    "data_cat = data_cat.replace({'Success': {1: '1st', 2: '2nd', 3: '3rd'}})\n",
    "# check the data\n",
    "print(data_cat_dummies.head(8))"
   ]
  },
  {
   "cell_type": "code",
   "execution_count": 13,
   "metadata": {},
   "outputs": [
    {
     "data": {
      "text/html": [
       "<div>\n",
       "<style scoped>\n",
       "    .dataframe tbody tr th:only-of-type {\n",
       "        vertical-align: middle;\n",
       "    }\n",
       "\n",
       "    .dataframe tbody tr th {\n",
       "        vertical-align: top;\n",
       "    }\n",
       "\n",
       "    .dataframe thead th {\n",
       "        text-align: right;\n",
       "    }\n",
       "</style>\n",
       "<table border=\"1\" class=\"dataframe\">\n",
       "  <thead>\n",
       "    <tr style=\"text-align: right;\">\n",
       "      <th></th>\n",
       "      <th>F1</th>\n",
       "      <th>Date</th>\n",
       "      <th>Missile Name</th>\n",
       "      <th>Missile Type</th>\n",
       "      <th>Facility Latitude</th>\n",
       "      <th>Facility Longitude</th>\n",
       "      <th>Landing Location</th>\n",
       "      <th>Apogee (km)</th>\n",
       "      <th>Distance Travelled (km)</th>\n",
       "      <th>Confirmation Status</th>\n",
       "      <th>Success</th>\n",
       "    </tr>\n",
       "  </thead>\n",
       "  <tbody>\n",
       "    <tr>\n",
       "      <th>0</th>\n",
       "      <td>1</td>\n",
       "      <td>9-Apr-84</td>\n",
       "      <td>Scud-B</td>\n",
       "      <td>SRBM</td>\n",
       "      <td>40.8499966</td>\n",
       "      <td>129.666664</td>\n",
       "      <td>Unknown</td>\n",
       "      <td>Unknown</td>\n",
       "      <td>Unknown</td>\n",
       "      <td>Confirmed</td>\n",
       "      <td>Success</td>\n",
       "    </tr>\n",
       "    <tr>\n",
       "      <th>1</th>\n",
       "      <td>2</td>\n",
       "      <td>9-Apr-84</td>\n",
       "      <td>Scud-B</td>\n",
       "      <td>SRBM</td>\n",
       "      <td>40.8499966</td>\n",
       "      <td>129.666664</td>\n",
       "      <td>Unknown</td>\n",
       "      <td>Unknown</td>\n",
       "      <td>Unknown</td>\n",
       "      <td>Confirmed</td>\n",
       "      <td>Success</td>\n",
       "    </tr>\n",
       "    <tr>\n",
       "      <th>2</th>\n",
       "      <td>3</td>\n",
       "      <td>9-Apr-84</td>\n",
       "      <td>Scud-B</td>\n",
       "      <td>SRBM</td>\n",
       "      <td>40.8499966</td>\n",
       "      <td>129.666664</td>\n",
       "      <td>Unknown</td>\n",
       "      <td>200</td>\n",
       "      <td>Unknown</td>\n",
       "      <td>Confirmed</td>\n",
       "      <td>Success</td>\n",
       "    </tr>\n",
       "    <tr>\n",
       "      <th>3</th>\n",
       "      <td>4</td>\n",
       "      <td>Sep-84</td>\n",
       "      <td>Scud-B</td>\n",
       "      <td>SRBM</td>\n",
       "      <td>40.8499966</td>\n",
       "      <td>129.666664</td>\n",
       "      <td>Unknown</td>\n",
       "      <td>Unknown</td>\n",
       "      <td>Unknown</td>\n",
       "      <td>Confirmed</td>\n",
       "      <td>Failure</td>\n",
       "    </tr>\n",
       "    <tr>\n",
       "      <th>4</th>\n",
       "      <td>5</td>\n",
       "      <td>Sep-84</td>\n",
       "      <td>Scud-B</td>\n",
       "      <td>SRBM</td>\n",
       "      <td>40.8499966</td>\n",
       "      <td>129.666664</td>\n",
       "      <td>Unknown</td>\n",
       "      <td>200</td>\n",
       "      <td>Unknown</td>\n",
       "      <td>Confirmed</td>\n",
       "      <td>Failure</td>\n",
       "    </tr>\n",
       "  </tbody>\n",
       "</table>\n",
       "</div>"
      ],
      "text/plain": [
       "   F1      Date Missile Name Missile Type Facility Latitude  \\\n",
       "0   1  9-Apr-84       Scud-B         SRBM        40.8499966   \n",
       "1   2  9-Apr-84       Scud-B         SRBM        40.8499966   \n",
       "2   3  9-Apr-84       Scud-B         SRBM        40.8499966   \n",
       "3   4    Sep-84       Scud-B         SRBM        40.8499966   \n",
       "4   5    Sep-84       Scud-B         SRBM        40.8499966   \n",
       "\n",
       "  Facility Longitude Landing Location Apogee (km) Distance Travelled (km)  \\\n",
       "0         129.666664          Unknown     Unknown                 Unknown   \n",
       "1         129.666664          Unknown     Unknown                 Unknown   \n",
       "2         129.666664          Unknown         200                 Unknown   \n",
       "3         129.666664          Unknown     Unknown                 Unknown   \n",
       "4         129.666664          Unknown         200                 Unknown   \n",
       "\n",
       "  Confirmation Status  Success  \n",
       "0           Confirmed  Success  \n",
       "1           Confirmed  Success  \n",
       "2           Confirmed  Success  \n",
       "3           Confirmed  Failure  \n",
       "4           Confirmed  Failure  "
      ]
     },
     "execution_count": 13,
     "metadata": {},
     "output_type": "execute_result"
    }
   ],
   "source": [
    "# Stripping away some columns of information not useful for my predictions\n",
    "\n",
    "df.drop(['Date Entered/Updated', 'Launch Agency/Authority', 'Source(s)',\n",
    "         'Additional Information', 'Facility Name', 'Facility Location', 'Other Name'], axis='columns', inplace=True)\n",
    "df.head()"
   ]
  },
  {
   "cell_type": "code",
   "execution_count": 14,
   "metadata": {},
   "outputs": [
    {
     "name": "stdout",
     "output_type": "stream",
     "text": [
      "The dimension of the table is:  (106, 11)\n"
     ]
    }
   ],
   "source": [
    "print(\"The dimension of the table is: \", df.shape)"
   ]
  },
  {
   "cell_type": "code",
   "execution_count": 15,
   "metadata": {},
   "outputs": [],
   "source": [
    "# replacing all of the string 'unknown' to NaN\n",
    "\n",
    "import numpy as np\n",
    "df = df.replace('Unknown',np.NaN)"
   ]
  },
  {
   "cell_type": "code",
   "execution_count": 16,
   "metadata": {},
   "outputs": [],
   "source": [
    "# Dropping the NaNs to really boil down the dataframe\n",
    "\n",
    "#df = df.dropna()"
   ]
  },
  {
   "cell_type": "code",
   "execution_count": 17,
   "metadata": {},
   "outputs": [
    {
     "name": "stdout",
     "output_type": "stream",
     "text": [
      "The dimension of the table is:  (106, 11)\n"
     ]
    }
   ],
   "source": [
    "print(\"The dimension of the table is: \", df.shape)"
   ]
  },
  {
   "cell_type": "code",
   "execution_count": 18,
   "metadata": {},
   "outputs": [
    {
     "data": {
      "text/html": [
       "<div>\n",
       "<style scoped>\n",
       "    .dataframe tbody tr th:only-of-type {\n",
       "        vertical-align: middle;\n",
       "    }\n",
       "\n",
       "    .dataframe tbody tr th {\n",
       "        vertical-align: top;\n",
       "    }\n",
       "\n",
       "    .dataframe thead th {\n",
       "        text-align: right;\n",
       "    }\n",
       "</style>\n",
       "<table border=\"1\" class=\"dataframe\">\n",
       "  <thead>\n",
       "    <tr style=\"text-align: right;\">\n",
       "      <th></th>\n",
       "      <th>F1</th>\n",
       "      <th>Date</th>\n",
       "      <th>Missile Name</th>\n",
       "      <th>Missile Type</th>\n",
       "      <th>Facility Latitude</th>\n",
       "      <th>Facility Longitude</th>\n",
       "      <th>Landing Location</th>\n",
       "      <th>Apogee (km)</th>\n",
       "      <th>Distance Travelled (km)</th>\n",
       "      <th>Confirmation Status</th>\n",
       "      <th>Success</th>\n",
       "    </tr>\n",
       "  </thead>\n",
       "  <tbody>\n",
       "    <tr>\n",
       "      <th>0</th>\n",
       "      <td>1</td>\n",
       "      <td>9-Apr-84</td>\n",
       "      <td>Scud-B</td>\n",
       "      <td>SRBM</td>\n",
       "      <td>40.8499966</td>\n",
       "      <td>129.666664</td>\n",
       "      <td>NaN</td>\n",
       "      <td>NaN</td>\n",
       "      <td>NaN</td>\n",
       "      <td>Confirmed</td>\n",
       "      <td>Success</td>\n",
       "    </tr>\n",
       "    <tr>\n",
       "      <th>1</th>\n",
       "      <td>2</td>\n",
       "      <td>9-Apr-84</td>\n",
       "      <td>Scud-B</td>\n",
       "      <td>SRBM</td>\n",
       "      <td>40.8499966</td>\n",
       "      <td>129.666664</td>\n",
       "      <td>NaN</td>\n",
       "      <td>NaN</td>\n",
       "      <td>NaN</td>\n",
       "      <td>Confirmed</td>\n",
       "      <td>Success</td>\n",
       "    </tr>\n",
       "    <tr>\n",
       "      <th>2</th>\n",
       "      <td>3</td>\n",
       "      <td>9-Apr-84</td>\n",
       "      <td>Scud-B</td>\n",
       "      <td>SRBM</td>\n",
       "      <td>40.8499966</td>\n",
       "      <td>129.666664</td>\n",
       "      <td>NaN</td>\n",
       "      <td>200</td>\n",
       "      <td>NaN</td>\n",
       "      <td>Confirmed</td>\n",
       "      <td>Success</td>\n",
       "    </tr>\n",
       "    <tr>\n",
       "      <th>3</th>\n",
       "      <td>4</td>\n",
       "      <td>Sep-84</td>\n",
       "      <td>Scud-B</td>\n",
       "      <td>SRBM</td>\n",
       "      <td>40.8499966</td>\n",
       "      <td>129.666664</td>\n",
       "      <td>NaN</td>\n",
       "      <td>NaN</td>\n",
       "      <td>NaN</td>\n",
       "      <td>Confirmed</td>\n",
       "      <td>Failure</td>\n",
       "    </tr>\n",
       "    <tr>\n",
       "      <th>4</th>\n",
       "      <td>5</td>\n",
       "      <td>Sep-84</td>\n",
       "      <td>Scud-B</td>\n",
       "      <td>SRBM</td>\n",
       "      <td>40.8499966</td>\n",
       "      <td>129.666664</td>\n",
       "      <td>NaN</td>\n",
       "      <td>200</td>\n",
       "      <td>NaN</td>\n",
       "      <td>Confirmed</td>\n",
       "      <td>Failure</td>\n",
       "    </tr>\n",
       "  </tbody>\n",
       "</table>\n",
       "</div>"
      ],
      "text/plain": [
       "   F1      Date Missile Name Missile Type Facility Latitude  \\\n",
       "0   1  9-Apr-84       Scud-B         SRBM        40.8499966   \n",
       "1   2  9-Apr-84       Scud-B         SRBM        40.8499966   \n",
       "2   3  9-Apr-84       Scud-B         SRBM        40.8499966   \n",
       "3   4    Sep-84       Scud-B         SRBM        40.8499966   \n",
       "4   5    Sep-84       Scud-B         SRBM        40.8499966   \n",
       "\n",
       "  Facility Longitude Landing Location Apogee (km) Distance Travelled (km)  \\\n",
       "0         129.666664              NaN         NaN                     NaN   \n",
       "1         129.666664              NaN         NaN                     NaN   \n",
       "2         129.666664              NaN         200                     NaN   \n",
       "3         129.666664              NaN         NaN                     NaN   \n",
       "4         129.666664              NaN         200                     NaN   \n",
       "\n",
       "  Confirmation Status  Success  \n",
       "0           Confirmed  Success  \n",
       "1           Confirmed  Success  \n",
       "2           Confirmed  Success  \n",
       "3           Confirmed  Failure  \n",
       "4           Confirmed  Failure  "
      ]
     },
     "execution_count": 18,
     "metadata": {},
     "output_type": "execute_result"
    }
   ],
   "source": [
    "# Whats left for analysis and continued exploration\n",
    "\n",
    "df.head()"
   ]
  },
  {
   "cell_type": "markdown",
   "metadata": {},
   "source": [
    "<a id=\"cell24\"></a>"
   ]
  },
  {
   "cell_type": "markdown",
   "metadata": {},
   "source": []
  },
  {
   "cell_type": "markdown",
   "metadata": {},
   "source": [
    "# Begin Milestone 3\n",
    "\n",
    "## Reviewing feedback I am reshaping the data set \n",
    "## I am also focusing on predicting the success based on missile name and type using regression"
   ]
  },
  {
   "cell_type": "code",
   "execution_count": 19,
   "metadata": {},
   "outputs": [
    {
     "data": {
      "text/html": [
       "<div>\n",
       "<style scoped>\n",
       "    .dataframe tbody tr th:only-of-type {\n",
       "        vertical-align: middle;\n",
       "    }\n",
       "\n",
       "    .dataframe tbody tr th {\n",
       "        vertical-align: top;\n",
       "    }\n",
       "\n",
       "    .dataframe thead th {\n",
       "        text-align: right;\n",
       "    }\n",
       "</style>\n",
       "<table border=\"1\" class=\"dataframe\">\n",
       "  <thead>\n",
       "    <tr style=\"text-align: right;\">\n",
       "      <th></th>\n",
       "      <th>F1</th>\n",
       "      <th>Date</th>\n",
       "      <th>Missile Name</th>\n",
       "      <th>Missile Type</th>\n",
       "      <th>Confirmation Status</th>\n",
       "      <th>Success</th>\n",
       "    </tr>\n",
       "  </thead>\n",
       "  <tbody>\n",
       "    <tr>\n",
       "      <th>0</th>\n",
       "      <td>1</td>\n",
       "      <td>9-Apr-84</td>\n",
       "      <td>Scud-B</td>\n",
       "      <td>SRBM</td>\n",
       "      <td>Confirmed</td>\n",
       "      <td>Success</td>\n",
       "    </tr>\n",
       "    <tr>\n",
       "      <th>1</th>\n",
       "      <td>2</td>\n",
       "      <td>9-Apr-84</td>\n",
       "      <td>Scud-B</td>\n",
       "      <td>SRBM</td>\n",
       "      <td>Confirmed</td>\n",
       "      <td>Success</td>\n",
       "    </tr>\n",
       "    <tr>\n",
       "      <th>2</th>\n",
       "      <td>3</td>\n",
       "      <td>9-Apr-84</td>\n",
       "      <td>Scud-B</td>\n",
       "      <td>SRBM</td>\n",
       "      <td>Confirmed</td>\n",
       "      <td>Success</td>\n",
       "    </tr>\n",
       "    <tr>\n",
       "      <th>3</th>\n",
       "      <td>4</td>\n",
       "      <td>Sep-84</td>\n",
       "      <td>Scud-B</td>\n",
       "      <td>SRBM</td>\n",
       "      <td>Confirmed</td>\n",
       "      <td>Failure</td>\n",
       "    </tr>\n",
       "    <tr>\n",
       "      <th>4</th>\n",
       "      <td>5</td>\n",
       "      <td>Sep-84</td>\n",
       "      <td>Scud-B</td>\n",
       "      <td>SRBM</td>\n",
       "      <td>Confirmed</td>\n",
       "      <td>Failure</td>\n",
       "    </tr>\n",
       "  </tbody>\n",
       "</table>\n",
       "</div>"
      ],
      "text/plain": [
       "   F1      Date Missile Name Missile Type Confirmation Status  Success\n",
       "0   1  9-Apr-84       Scud-B         SRBM           Confirmed  Success\n",
       "1   2  9-Apr-84       Scud-B         SRBM           Confirmed  Success\n",
       "2   3  9-Apr-84       Scud-B         SRBM           Confirmed  Success\n",
       "3   4    Sep-84       Scud-B         SRBM           Confirmed  Failure\n",
       "4   5    Sep-84       Scud-B         SRBM           Confirmed  Failure"
      ]
     },
     "execution_count": 19,
     "metadata": {},
     "output_type": "execute_result"
    }
   ],
   "source": [
    "df.drop(['Facility Latitude', 'Facility Longitude', 'Landing Location',\n",
    "         'Apogee (km)', 'Distance Travelled (km)'], axis='columns', inplace=True)\n",
    "df.head()"
   ]
  },
  {
   "cell_type": "code",
   "execution_count": 20,
   "metadata": {},
   "outputs": [
    {
     "name": "stdout",
     "output_type": "stream",
     "text": [
      "The dimension of the table is:  (106, 6)\n"
     ]
    }
   ],
   "source": [
    "print(\"The dimension of the table is: \", df.shape)"
   ]
  },
  {
   "cell_type": "code",
   "execution_count": 21,
   "metadata": {},
   "outputs": [],
   "source": [
    "replace_map = {'Missile Name': {'Scud-B': 1, 'Unknown': 2, 'Nodong': 3, 'Scud-C': 4, 'Taepodong-1': 5, 'Unha': 6,\n",
    "                                'Unha-3': 7, 'KN-02': 8, 'Polaris-1': 9, 'Musudan': 10, 'Polaris-2': 11, 'ER Scud': 12, 'KN-17': 13}}"
   ]
  },
  {
   "cell_type": "code",
   "execution_count": 22,
   "metadata": {},
   "outputs": [
    {
     "data": {
      "text/html": [
       "<div>\n",
       "<style scoped>\n",
       "    .dataframe tbody tr th:only-of-type {\n",
       "        vertical-align: middle;\n",
       "    }\n",
       "\n",
       "    .dataframe tbody tr th {\n",
       "        vertical-align: top;\n",
       "    }\n",
       "\n",
       "    .dataframe thead th {\n",
       "        text-align: right;\n",
       "    }\n",
       "</style>\n",
       "<table border=\"1\" class=\"dataframe\">\n",
       "  <thead>\n",
       "    <tr style=\"text-align: right;\">\n",
       "      <th></th>\n",
       "      <th>F1</th>\n",
       "      <th>Date</th>\n",
       "      <th>Missile Name</th>\n",
       "      <th>Missile Type</th>\n",
       "      <th>Confirmation Status</th>\n",
       "      <th>Success</th>\n",
       "    </tr>\n",
       "  </thead>\n",
       "  <tbody>\n",
       "    <tr>\n",
       "      <th>0</th>\n",
       "      <td>1</td>\n",
       "      <td>9-Apr-84</td>\n",
       "      <td>1.0</td>\n",
       "      <td>SRBM</td>\n",
       "      <td>Confirmed</td>\n",
       "      <td>Success</td>\n",
       "    </tr>\n",
       "    <tr>\n",
       "      <th>1</th>\n",
       "      <td>2</td>\n",
       "      <td>9-Apr-84</td>\n",
       "      <td>1.0</td>\n",
       "      <td>SRBM</td>\n",
       "      <td>Confirmed</td>\n",
       "      <td>Success</td>\n",
       "    </tr>\n",
       "    <tr>\n",
       "      <th>2</th>\n",
       "      <td>3</td>\n",
       "      <td>9-Apr-84</td>\n",
       "      <td>1.0</td>\n",
       "      <td>SRBM</td>\n",
       "      <td>Confirmed</td>\n",
       "      <td>Success</td>\n",
       "    </tr>\n",
       "    <tr>\n",
       "      <th>3</th>\n",
       "      <td>4</td>\n",
       "      <td>Sep-84</td>\n",
       "      <td>1.0</td>\n",
       "      <td>SRBM</td>\n",
       "      <td>Confirmed</td>\n",
       "      <td>Failure</td>\n",
       "    </tr>\n",
       "    <tr>\n",
       "      <th>4</th>\n",
       "      <td>5</td>\n",
       "      <td>Sep-84</td>\n",
       "      <td>1.0</td>\n",
       "      <td>SRBM</td>\n",
       "      <td>Confirmed</td>\n",
       "      <td>Failure</td>\n",
       "    </tr>\n",
       "  </tbody>\n",
       "</table>\n",
       "</div>"
      ],
      "text/plain": [
       "   F1      Date  Missile Name Missile Type Confirmation Status  Success\n",
       "0   1  9-Apr-84           1.0         SRBM           Confirmed  Success\n",
       "1   2  9-Apr-84           1.0         SRBM           Confirmed  Success\n",
       "2   3  9-Apr-84           1.0         SRBM           Confirmed  Success\n",
       "3   4    Sep-84           1.0         SRBM           Confirmed  Failure\n",
       "4   5    Sep-84           1.0         SRBM           Confirmed  Failure"
      ]
     },
     "execution_count": 22,
     "metadata": {},
     "output_type": "execute_result"
    }
   ],
   "source": [
    "df.replace(replace_map, inplace=True)\n",
    "df.head()"
   ]
  },
  {
   "cell_type": "code",
   "execution_count": 23,
   "metadata": {},
   "outputs": [
    {
     "data": {
      "text/html": [
       "<div>\n",
       "<style scoped>\n",
       "    .dataframe tbody tr th:only-of-type {\n",
       "        vertical-align: middle;\n",
       "    }\n",
       "\n",
       "    .dataframe tbody tr th {\n",
       "        vertical-align: top;\n",
       "    }\n",
       "\n",
       "    .dataframe thead th {\n",
       "        text-align: right;\n",
       "    }\n",
       "</style>\n",
       "<table border=\"1\" class=\"dataframe\">\n",
       "  <thead>\n",
       "    <tr style=\"text-align: right;\">\n",
       "      <th></th>\n",
       "      <th>F1</th>\n",
       "      <th>Date</th>\n",
       "      <th>Missile Name</th>\n",
       "      <th>Missile Type</th>\n",
       "      <th>Confirmation Status</th>\n",
       "      <th>Success</th>\n",
       "    </tr>\n",
       "  </thead>\n",
       "  <tbody>\n",
       "    <tr>\n",
       "      <th>0</th>\n",
       "      <td>1</td>\n",
       "      <td>9-Apr-84</td>\n",
       "      <td>1.0</td>\n",
       "      <td>2.0</td>\n",
       "      <td>Confirmed</td>\n",
       "      <td>Success</td>\n",
       "    </tr>\n",
       "    <tr>\n",
       "      <th>1</th>\n",
       "      <td>2</td>\n",
       "      <td>9-Apr-84</td>\n",
       "      <td>1.0</td>\n",
       "      <td>2.0</td>\n",
       "      <td>Confirmed</td>\n",
       "      <td>Success</td>\n",
       "    </tr>\n",
       "    <tr>\n",
       "      <th>2</th>\n",
       "      <td>3</td>\n",
       "      <td>9-Apr-84</td>\n",
       "      <td>1.0</td>\n",
       "      <td>2.0</td>\n",
       "      <td>Confirmed</td>\n",
       "      <td>Success</td>\n",
       "    </tr>\n",
       "    <tr>\n",
       "      <th>3</th>\n",
       "      <td>4</td>\n",
       "      <td>Sep-84</td>\n",
       "      <td>1.0</td>\n",
       "      <td>2.0</td>\n",
       "      <td>Confirmed</td>\n",
       "      <td>Failure</td>\n",
       "    </tr>\n",
       "    <tr>\n",
       "      <th>4</th>\n",
       "      <td>5</td>\n",
       "      <td>Sep-84</td>\n",
       "      <td>1.0</td>\n",
       "      <td>2.0</td>\n",
       "      <td>Confirmed</td>\n",
       "      <td>Failure</td>\n",
       "    </tr>\n",
       "  </tbody>\n",
       "</table>\n",
       "</div>"
      ],
      "text/plain": [
       "   F1      Date  Missile Name  Missile Type Confirmation Status  Success\n",
       "0   1  9-Apr-84           1.0           2.0           Confirmed  Success\n",
       "1   2  9-Apr-84           1.0           2.0           Confirmed  Success\n",
       "2   3  9-Apr-84           1.0           2.0           Confirmed  Success\n",
       "3   4    Sep-84           1.0           2.0           Confirmed  Failure\n",
       "4   5    Sep-84           1.0           2.0           Confirmed  Failure"
      ]
     },
     "execution_count": 23,
     "metadata": {},
     "output_type": "execute_result"
    }
   ],
   "source": [
    "replace_map = {'Missile Type': {'Unknown': 1, 'SRBM': 2, 'MRBM': 3, 'IRBM': 4, 'SLBM': 5, 'SLV': 6}}\n",
    "df.replace(replace_map, inplace=True)\n",
    "df.head()"
   ]
  },
  {
   "cell_type": "code",
   "execution_count": 24,
   "metadata": {},
   "outputs": [
    {
     "data": {
      "text/html": [
       "<div>\n",
       "<style scoped>\n",
       "    .dataframe tbody tr th:only-of-type {\n",
       "        vertical-align: middle;\n",
       "    }\n",
       "\n",
       "    .dataframe tbody tr th {\n",
       "        vertical-align: top;\n",
       "    }\n",
       "\n",
       "    .dataframe thead th {\n",
       "        text-align: right;\n",
       "    }\n",
       "</style>\n",
       "<table border=\"1\" class=\"dataframe\">\n",
       "  <thead>\n",
       "    <tr style=\"text-align: right;\">\n",
       "      <th></th>\n",
       "      <th>F1</th>\n",
       "      <th>Date</th>\n",
       "      <th>Missile Name</th>\n",
       "      <th>Missile Type</th>\n",
       "      <th>Confirmation Status</th>\n",
       "      <th>Success</th>\n",
       "    </tr>\n",
       "  </thead>\n",
       "  <tbody>\n",
       "    <tr>\n",
       "      <th>0</th>\n",
       "      <td>1</td>\n",
       "      <td>9-Apr-84</td>\n",
       "      <td>1.0</td>\n",
       "      <td>2.0</td>\n",
       "      <td>1</td>\n",
       "      <td>Success</td>\n",
       "    </tr>\n",
       "    <tr>\n",
       "      <th>1</th>\n",
       "      <td>2</td>\n",
       "      <td>9-Apr-84</td>\n",
       "      <td>1.0</td>\n",
       "      <td>2.0</td>\n",
       "      <td>1</td>\n",
       "      <td>Success</td>\n",
       "    </tr>\n",
       "    <tr>\n",
       "      <th>2</th>\n",
       "      <td>3</td>\n",
       "      <td>9-Apr-84</td>\n",
       "      <td>1.0</td>\n",
       "      <td>2.0</td>\n",
       "      <td>1</td>\n",
       "      <td>Success</td>\n",
       "    </tr>\n",
       "    <tr>\n",
       "      <th>3</th>\n",
       "      <td>4</td>\n",
       "      <td>Sep-84</td>\n",
       "      <td>1.0</td>\n",
       "      <td>2.0</td>\n",
       "      <td>1</td>\n",
       "      <td>Failure</td>\n",
       "    </tr>\n",
       "    <tr>\n",
       "      <th>4</th>\n",
       "      <td>5</td>\n",
       "      <td>Sep-84</td>\n",
       "      <td>1.0</td>\n",
       "      <td>2.0</td>\n",
       "      <td>1</td>\n",
       "      <td>Failure</td>\n",
       "    </tr>\n",
       "  </tbody>\n",
       "</table>\n",
       "</div>"
      ],
      "text/plain": [
       "   F1      Date  Missile Name  Missile Type  Confirmation Status  Success\n",
       "0   1  9-Apr-84           1.0           2.0                    1  Success\n",
       "1   2  9-Apr-84           1.0           2.0                    1  Success\n",
       "2   3  9-Apr-84           1.0           2.0                    1  Success\n",
       "3   4    Sep-84           1.0           2.0                    1  Failure\n",
       "4   5    Sep-84           1.0           2.0                    1  Failure"
      ]
     },
     "execution_count": 24,
     "metadata": {},
     "output_type": "execute_result"
    }
   ],
   "source": [
    "replace_map = {'Confirmation Status': {'Confirmed': 1, 'Unconfirmed': 2}}\n",
    "df.replace(replace_map, inplace=True)\n",
    "df.head()"
   ]
  },
  {
   "cell_type": "code",
   "execution_count": 25,
   "metadata": {},
   "outputs": [
    {
     "data": {
      "text/html": [
       "<div>\n",
       "<style scoped>\n",
       "    .dataframe tbody tr th:only-of-type {\n",
       "        vertical-align: middle;\n",
       "    }\n",
       "\n",
       "    .dataframe tbody tr th {\n",
       "        vertical-align: top;\n",
       "    }\n",
       "\n",
       "    .dataframe thead th {\n",
       "        text-align: right;\n",
       "    }\n",
       "</style>\n",
       "<table border=\"1\" class=\"dataframe\">\n",
       "  <thead>\n",
       "    <tr style=\"text-align: right;\">\n",
       "      <th></th>\n",
       "      <th>F1</th>\n",
       "      <th>Date</th>\n",
       "      <th>Missile Name</th>\n",
       "      <th>Missile Type</th>\n",
       "      <th>Confirmation Status</th>\n",
       "      <th>Success</th>\n",
       "    </tr>\n",
       "  </thead>\n",
       "  <tbody>\n",
       "    <tr>\n",
       "      <th>0</th>\n",
       "      <td>1</td>\n",
       "      <td>9-Apr-84</td>\n",
       "      <td>1.0</td>\n",
       "      <td>2.0</td>\n",
       "      <td>1</td>\n",
       "      <td>1.0</td>\n",
       "    </tr>\n",
       "    <tr>\n",
       "      <th>1</th>\n",
       "      <td>2</td>\n",
       "      <td>9-Apr-84</td>\n",
       "      <td>1.0</td>\n",
       "      <td>2.0</td>\n",
       "      <td>1</td>\n",
       "      <td>1.0</td>\n",
       "    </tr>\n",
       "    <tr>\n",
       "      <th>2</th>\n",
       "      <td>3</td>\n",
       "      <td>9-Apr-84</td>\n",
       "      <td>1.0</td>\n",
       "      <td>2.0</td>\n",
       "      <td>1</td>\n",
       "      <td>1.0</td>\n",
       "    </tr>\n",
       "    <tr>\n",
       "      <th>3</th>\n",
       "      <td>4</td>\n",
       "      <td>Sep-84</td>\n",
       "      <td>1.0</td>\n",
       "      <td>2.0</td>\n",
       "      <td>1</td>\n",
       "      <td>2.0</td>\n",
       "    </tr>\n",
       "    <tr>\n",
       "      <th>4</th>\n",
       "      <td>5</td>\n",
       "      <td>Sep-84</td>\n",
       "      <td>1.0</td>\n",
       "      <td>2.0</td>\n",
       "      <td>1</td>\n",
       "      <td>2.0</td>\n",
       "    </tr>\n",
       "  </tbody>\n",
       "</table>\n",
       "</div>"
      ],
      "text/plain": [
       "   F1      Date  Missile Name  Missile Type  Confirmation Status  Success\n",
       "0   1  9-Apr-84           1.0           2.0                    1      1.0\n",
       "1   2  9-Apr-84           1.0           2.0                    1      1.0\n",
       "2   3  9-Apr-84           1.0           2.0                    1      1.0\n",
       "3   4    Sep-84           1.0           2.0                    1      2.0\n",
       "4   5    Sep-84           1.0           2.0                    1      2.0"
      ]
     },
     "execution_count": 25,
     "metadata": {},
     "output_type": "execute_result"
    }
   ],
   "source": [
    "replace_map = {'Success': {'Success': 1, 'Failure': 2, 'Unknown': 3}}\n",
    "df.replace(replace_map, inplace=True)\n",
    "df.head()"
   ]
  },
  {
   "cell_type": "code",
   "execution_count": 26,
   "metadata": {},
   "outputs": [
    {
     "name": "stdout",
     "output_type": "stream",
     "text": [
      "      F1       Date  Missile Name  Missile Type  Confirmation Status  Success\n",
      "0      1   9-Apr-84           1.0           2.0                    1      1.0\n",
      "1      2   9-Apr-84           1.0           2.0                    1      1.0\n",
      "2      3   9-Apr-84           1.0           2.0                    1      1.0\n",
      "3      4     Sep-84           1.0           2.0                    1      2.0\n",
      "4      5     Sep-84           1.0           2.0                    1      2.0\n",
      "..   ...        ...           ...           ...                  ...      ...\n",
      "101  102   6-Mar-17          12.0           3.0                    1      1.0\n",
      "102  103  22-Mar-17           NaN           NaN                    1      2.0\n",
      "103  104   5-Apr-17          13.0           2.0                    1      2.0\n",
      "104  105  16-Apr-17          13.0           2.0                    1      2.0\n",
      "105  106  29-Apr-17           NaN           NaN                    1      2.0\n",
      "\n",
      "[106 rows x 6 columns]\n"
     ]
    }
   ],
   "source": [
    "print(df)"
   ]
  },
  {
   "cell_type": "code",
   "execution_count": 27,
   "metadata": {},
   "outputs": [],
   "source": [
    "df = df.dropna()"
   ]
  },
  {
   "cell_type": "code",
   "execution_count": 28,
   "metadata": {},
   "outputs": [],
   "source": [
    "df['Missile Type'] = df['Missile Type'].apply(np.int64)"
   ]
  },
  {
   "cell_type": "code",
   "execution_count": 29,
   "metadata": {},
   "outputs": [],
   "source": [
    "df['Missile Name'] = df['Missile Name'].apply(np.int64)"
   ]
  },
  {
   "cell_type": "code",
   "execution_count": 30,
   "metadata": {},
   "outputs": [],
   "source": [
    "df['Success'] = df['Success'].apply(np.int64)"
   ]
  },
  {
   "cell_type": "code",
   "execution_count": 32,
   "metadata": {},
   "outputs": [
    {
     "data": {
      "text/html": [
       "<div>\n",
       "<style scoped>\n",
       "    .dataframe tbody tr th:only-of-type {\n",
       "        vertical-align: middle;\n",
       "    }\n",
       "\n",
       "    .dataframe tbody tr th {\n",
       "        vertical-align: top;\n",
       "    }\n",
       "\n",
       "    .dataframe thead th {\n",
       "        text-align: right;\n",
       "    }\n",
       "</style>\n",
       "<table border=\"1\" class=\"dataframe\">\n",
       "  <thead>\n",
       "    <tr style=\"text-align: right;\">\n",
       "      <th></th>\n",
       "      <th>F1</th>\n",
       "      <th>Date</th>\n",
       "      <th>Missile Name</th>\n",
       "      <th>Missile Type</th>\n",
       "      <th>Confirmation Status</th>\n",
       "      <th>Success</th>\n",
       "    </tr>\n",
       "  </thead>\n",
       "  <tbody>\n",
       "    <tr>\n",
       "      <th>0</th>\n",
       "      <td>1</td>\n",
       "      <td>9-Apr-84</td>\n",
       "      <td>1</td>\n",
       "      <td>2</td>\n",
       "      <td>1</td>\n",
       "      <td>1</td>\n",
       "    </tr>\n",
       "    <tr>\n",
       "      <th>1</th>\n",
       "      <td>2</td>\n",
       "      <td>9-Apr-84</td>\n",
       "      <td>1</td>\n",
       "      <td>2</td>\n",
       "      <td>1</td>\n",
       "      <td>1</td>\n",
       "    </tr>\n",
       "    <tr>\n",
       "      <th>2</th>\n",
       "      <td>3</td>\n",
       "      <td>9-Apr-84</td>\n",
       "      <td>1</td>\n",
       "      <td>2</td>\n",
       "      <td>1</td>\n",
       "      <td>1</td>\n",
       "    </tr>\n",
       "    <tr>\n",
       "      <th>3</th>\n",
       "      <td>4</td>\n",
       "      <td>Sep-84</td>\n",
       "      <td>1</td>\n",
       "      <td>2</td>\n",
       "      <td>1</td>\n",
       "      <td>2</td>\n",
       "    </tr>\n",
       "    <tr>\n",
       "      <th>4</th>\n",
       "      <td>5</td>\n",
       "      <td>Sep-84</td>\n",
       "      <td>1</td>\n",
       "      <td>2</td>\n",
       "      <td>1</td>\n",
       "      <td>2</td>\n",
       "    </tr>\n",
       "  </tbody>\n",
       "</table>\n",
       "</div>"
      ],
      "text/plain": [
       "   F1      Date  Missile Name  Missile Type  Confirmation Status  Success\n",
       "0   1  9-Apr-84             1             2                    1        1\n",
       "1   2  9-Apr-84             1             2                    1        1\n",
       "2   3  9-Apr-84             1             2                    1        1\n",
       "3   4    Sep-84             1             2                    1        2\n",
       "4   5    Sep-84             1             2                    1        2"
      ]
     },
     "execution_count": 32,
     "metadata": {},
     "output_type": "execute_result"
    }
   ],
   "source": [
    "df.head()"
   ]
  },
  {
   "cell_type": "code",
   "execution_count": 33,
   "metadata": {},
   "outputs": [
    {
     "name": "stdout",
     "output_type": "stream",
     "text": [
      "The dimension of the table is:  (102, 6)\n"
     ]
    }
   ],
   "source": [
    "print(\"The dimension of the table is: \", df.shape)"
   ]
  },
  {
   "cell_type": "code",
   "execution_count": 34,
   "metadata": {},
   "outputs": [],
   "source": [
    "from sklearn import linear_model\n",
    "\n",
    "X = df[['Missile Type', 'Missile Name']]\n",
    "y = df['Success']"
   ]
  },
  {
   "cell_type": "code",
   "execution_count": 31,
   "metadata": {},
   "outputs": [
    {
     "data": {
      "text/plain": [
       "LinearRegression(copy_X=True, fit_intercept=True, n_jobs=None,\n",
       "         normalize=False)"
      ]
     },
     "execution_count": 31,
     "metadata": {},
     "output_type": "execute_result"
    }
   ],
   "source": [
    "regr = linear_model.LinearRegression()\n",
    "regr.fit(X, y)"
   ]
  },
  {
   "cell_type": "code",
   "execution_count": 32,
   "metadata": {},
   "outputs": [
    {
     "name": "stdout",
     "output_type": "stream",
     "text": [
      "[1.59711499]\n"
     ]
    }
   ],
   "source": [
    "\n",
    "predicted_score = regr.predict([[5, 1]])\n",
    "\n",
    "print(predicted_score)"
   ]
  },
  {
   "cell_type": "code",
   "execution_count": 33,
   "metadata": {},
   "outputs": [],
   "source": [
    "from sklearn.model_selection import train_test_split\n",
    "X_train, X_test, y_train, y_test = train_test_split(X, y, random_state=42)"
   ]
  },
  {
   "cell_type": "code",
   "execution_count": 34,
   "metadata": {},
   "outputs": [
    {
     "name": "stdout",
     "output_type": "stream",
     "text": [
      "Accuracy: 0.8846153846153846\n",
      "Confusion Matrix\n",
      "[[20  2]\n",
      " [ 1  3]]\n",
      "              precision    recall  f1-score   support\n",
      "\n",
      "           1       0.95      0.91      0.93        22\n",
      "           2       0.60      0.75      0.67         4\n",
      "\n",
      "   micro avg       0.88      0.88      0.88        26\n",
      "   macro avg       0.78      0.83      0.80        26\n",
      "weighted avg       0.90      0.88      0.89        26\n",
      "\n",
      "[0.52589705 0.47410295]\n"
     ]
    }
   ],
   "source": [
    "from sklearn.ensemble import RandomForestClassifier\n",
    "from sklearn.metrics import accuracy_score,precision_score,recall_score,f1_score,confusion_matrix\n",
    "\n",
    "clf = RandomForestClassifier(n_estimators=80)\n",
    "clf.fit(X_train, y_train)\n",
    "y_pred=clf.predict(X_test)\n",
    "acc=accuracy_score(y_test,y_pred)\n",
    "\n",
    "print(\"Accuracy:\" ,acc)\n",
    "print( \"Confusion Matrix\")\n",
    "print( confusion_matrix(y_test, y_pred))\n",
    "\n",
    "from sklearn.metrics import classification_report\n",
    "\n",
    "print(classification_report(y_test, y_pred))\n",
    "print(clf.feature_importances_)"
   ]
  },
  {
   "cell_type": "markdown",
   "metadata": {},
   "source": [
    "# Begin Milestone 4\n",
    "## Linear regression was not the correct model so ran a logistic regression, see below"
   ]
  },
  {
   "cell_type": "code",
   "execution_count": 35,
   "metadata": {},
   "outputs": [],
   "source": [
    "import matplotlib.pyplot as plt\n",
    "import numpy as np\n",
    "from sklearn.linear_model import LogisticRegression\n",
    "from sklearn.metrics import classification_report, confusion_matrix"
   ]
  },
  {
   "cell_type": "code",
   "execution_count": 36,
   "metadata": {},
   "outputs": [],
   "source": [
    "model = LogisticRegression(solver='liblinear', random_state=0)"
   ]
  },
  {
   "cell_type": "code",
   "execution_count": 37,
   "metadata": {},
   "outputs": [
    {
     "data": {
      "text/plain": [
       "LogisticRegression(C=1.0, class_weight=None, dual=False, fit_intercept=True,\n",
       "          intercept_scaling=1, max_iter=100, multi_class='warn',\n",
       "          n_jobs=None, penalty='l2', random_state=0, solver='liblinear',\n",
       "          tol=0.0001, verbose=0, warm_start=False)"
      ]
     },
     "execution_count": 37,
     "metadata": {},
     "output_type": "execute_result"
    }
   ],
   "source": [
    "model.fit(X, y)"
   ]
  },
  {
   "cell_type": "code",
   "execution_count": 39,
   "metadata": {},
   "outputs": [],
   "source": [
    "model = LogisticRegression(solver='liblinear', random_state=0).fit(X, y)"
   ]
  },
  {
   "cell_type": "code",
   "execution_count": 40,
   "metadata": {},
   "outputs": [
    {
     "data": {
      "text/plain": [
       "array([1, 2], dtype=int64)"
      ]
     },
     "execution_count": 40,
     "metadata": {},
     "output_type": "execute_result"
    }
   ],
   "source": [
    "model.classes_"
   ]
  },
  {
   "cell_type": "code",
   "execution_count": 41,
   "metadata": {},
   "outputs": [
    {
     "data": {
      "text/plain": [
       "array([-2.63731699])"
      ]
     },
     "execution_count": 41,
     "metadata": {},
     "output_type": "execute_result"
    }
   ],
   "source": [
    "model.intercept_"
   ]
  },
  {
   "cell_type": "code",
   "execution_count": 42,
   "metadata": {},
   "outputs": [
    {
     "data": {
      "text/plain": [
       "array([[ 0.59936081, -0.03697153]])"
      ]
     },
     "execution_count": 42,
     "metadata": {},
     "output_type": "execute_result"
    }
   ],
   "source": [
    "model.coef_"
   ]
  },
  {
   "cell_type": "code",
   "execution_count": 43,
   "metadata": {},
   "outputs": [
    {
     "data": {
      "text/plain": [
       "array([[0.81390205, 0.18609795],\n",
       "       [0.81390205, 0.18609795],\n",
       "       [0.81390205, 0.18609795],\n",
       "       [0.81390205, 0.18609795],\n",
       "       [0.81390205, 0.18609795],\n",
       "       [0.81390205, 0.18609795],\n",
       "       [0.72114517, 0.27885483],\n",
       "       [0.8301205 , 0.1698795 ],\n",
       "       [0.8301205 , 0.1698795 ],\n",
       "       [0.72114517, 0.27885483],\n",
       "       [0.72114517, 0.27885483],\n",
       "       [0.8301205 , 0.1698795 ],\n",
       "       [0.8301205 , 0.1698795 ],\n",
       "       [0.31561657, 0.68438343],\n",
       "       [0.32365642, 0.67634358],\n",
       "       [0.8301205 , 0.1698795 ],\n",
       "       [0.72114517, 0.27885483],\n",
       "       [0.8301205 , 0.1698795 ],\n",
       "       [0.72114517, 0.27885483],\n",
       "       [0.72114517, 0.27885483],\n",
       "       [0.72114517, 0.27885483],\n",
       "       [0.32365642, 0.67634358],\n",
       "       [0.72114517, 0.27885483],\n",
       "       [0.72114517, 0.27885483],\n",
       "       [0.8301205 , 0.1698795 ],\n",
       "       [0.8301205 , 0.1698795 ],\n",
       "       [0.8301205 , 0.1698795 ],\n",
       "       [0.8301205 , 0.1698795 ],\n",
       "       [0.8301205 , 0.1698795 ],\n",
       "       [0.33180177, 0.66819823],\n",
       "       [0.33180177, 0.66819823],\n",
       "       [0.84997023, 0.15002977],\n",
       "       [0.84997023, 0.15002977],\n",
       "       [0.84997023, 0.15002977],\n",
       "       [0.84997023, 0.15002977],\n",
       "       [0.84997023, 0.15002977],\n",
       "       [0.84997023, 0.15002977],\n",
       "       [0.81390205, 0.18609795],\n",
       "       [0.81390205, 0.18609795],\n",
       "       [0.81390205, 0.18609795],\n",
       "       [0.81390205, 0.18609795],\n",
       "       [0.8301205 , 0.1698795 ],\n",
       "       [0.8301205 , 0.1698795 ],\n",
       "       [0.72114517, 0.27885483],\n",
       "       [0.72114517, 0.27885483],\n",
       "       [0.84997023, 0.15002977],\n",
       "       [0.8301205 , 0.1698795 ],\n",
       "       [0.8301205 , 0.1698795 ],\n",
       "       [0.8301205 , 0.1698795 ],\n",
       "       [0.8301205 , 0.1698795 ],\n",
       "       [0.8301205 , 0.1698795 ],\n",
       "       [0.8301205 , 0.1698795 ],\n",
       "       [0.8301205 , 0.1698795 ],\n",
       "       [0.84997023, 0.15002977],\n",
       "       [0.84997023, 0.15002977],\n",
       "       [0.84997023, 0.15002977],\n",
       "       [0.84997023, 0.15002977],\n",
       "       [0.84997023, 0.15002977],\n",
       "       [0.84997023, 0.15002977],\n",
       "       [0.84997023, 0.15002977],\n",
       "       [0.84997023, 0.15002977],\n",
       "       [0.8301205 , 0.1698795 ],\n",
       "       [0.8301205 , 0.1698795 ],\n",
       "       [0.84997023, 0.15002977],\n",
       "       [0.84997023, 0.15002977],\n",
       "       [0.84997023, 0.15002977],\n",
       "       [0.84997023, 0.15002977],\n",
       "       [0.84997023, 0.15002977],\n",
       "       [0.49331457, 0.50668543],\n",
       "       [0.49331457, 0.50668543],\n",
       "       [0.49331457, 0.50668543],\n",
       "       [0.33180177, 0.66819823],\n",
       "       [0.8301205 , 0.1698795 ],\n",
       "       [0.8301205 , 0.1698795 ],\n",
       "       [0.72114517, 0.27885483],\n",
       "       [0.72114517, 0.27885483],\n",
       "       [0.64784705, 0.35215295],\n",
       "       [0.49331457, 0.50668543],\n",
       "       [0.64784705, 0.35215295],\n",
       "       [0.64784705, 0.35215295],\n",
       "       [0.64784705, 0.35215295],\n",
       "       [0.64784705, 0.35215295],\n",
       "       [0.64784705, 0.35215295],\n",
       "       [0.49331457, 0.50668543],\n",
       "       [0.8301205 , 0.1698795 ],\n",
       "       [0.8301205 , 0.1698795 ],\n",
       "       [0.72114517, 0.27885483],\n",
       "       [0.72114517, 0.27885483],\n",
       "       [0.72114517, 0.27885483],\n",
       "       [0.49331457, 0.50668543],\n",
       "       [0.78294181, 0.21705819],\n",
       "       [0.78294181, 0.21705819],\n",
       "       [0.78294181, 0.21705819],\n",
       "       [0.64784705, 0.35215295],\n",
       "       [0.64784705, 0.35215295],\n",
       "       [0.77659303, 0.22340697],\n",
       "       [0.78294181, 0.21705819],\n",
       "       [0.78294181, 0.21705819],\n",
       "       [0.78294181, 0.21705819],\n",
       "       [0.78294181, 0.21705819],\n",
       "       [0.87205201, 0.12794799],\n",
       "       [0.87205201, 0.12794799]])"
      ]
     },
     "execution_count": 43,
     "metadata": {},
     "output_type": "execute_result"
    }
   ],
   "source": [
    "model.predict_proba(X)"
   ]
  },
  {
   "cell_type": "code",
   "execution_count": 44,
   "metadata": {},
   "outputs": [
    {
     "data": {
      "text/plain": [
       "array([1, 1, 1, 1, 1, 1, 1, 1, 1, 1, 1, 1, 1, 2, 2, 1, 1, 1, 1, 1, 1, 2,\n",
       "       1, 1, 1, 1, 1, 1, 1, 2, 2, 1, 1, 1, 1, 1, 1, 1, 1, 1, 1, 1, 1, 1,\n",
       "       1, 1, 1, 1, 1, 1, 1, 1, 1, 1, 1, 1, 1, 1, 1, 1, 1, 1, 1, 1, 1, 1,\n",
       "       1, 1, 2, 2, 2, 2, 1, 1, 1, 1, 1, 2, 1, 1, 1, 1, 1, 2, 1, 1, 1, 1,\n",
       "       1, 2, 1, 1, 1, 1, 1, 1, 1, 1, 1, 1, 1, 1], dtype=int64)"
      ]
     },
     "execution_count": 44,
     "metadata": {},
     "output_type": "execute_result"
    }
   ],
   "source": [
    "model.predict(X)"
   ]
  },
  {
   "cell_type": "code",
   "execution_count": 45,
   "metadata": {},
   "outputs": [
    {
     "data": {
      "text/plain": [
       "0.7941176470588235"
      ]
     },
     "execution_count": 45,
     "metadata": {},
     "output_type": "execute_result"
    }
   ],
   "source": [
    "model.score(X, y)"
   ]
  },
  {
   "cell_type": "code",
   "execution_count": 46,
   "metadata": {},
   "outputs": [
    {
     "data": {
      "text/plain": [
       "array([[74,  5],\n",
       "       [16,  7]], dtype=int64)"
      ]
     },
     "execution_count": 46,
     "metadata": {},
     "output_type": "execute_result"
    }
   ],
   "source": [
    "confusion_matrix(y, model.predict(X))"
   ]
  },
  {
   "cell_type": "code",
   "execution_count": 47,
   "metadata": {},
   "outputs": [
    {
     "data": {
      "image/png": "[encoded data removed]",
      "text/plain": [
       "<Figure size 576x576 with 1 Axes>"
      ]
     },
     "metadata": {},
     "output_type": "display_data"
    }
   ],
   "source": [
    "cm = confusion_matrix(y, model.predict(X))\n",
    "\n",
    "fig, ax = plt.subplots(figsize=(8, 8))\n",
    "ax.imshow(cm)\n",
    "ax.grid(False)\n",
    "ax.xaxis.set(ticks=(0, 1), ticklabels=('Predicted 0s', 'Predicted 1s'))\n",
    "ax.yaxis.set(ticks=(0, 1), ticklabels=('Actual 0s', 'Actual 1s'))\n",
    "ax.set_ylim(1.5, -0.5)\n",
    "for i in range(2):\n",
    "    for j in range(2):\n",
    "        ax.text(j, i, cm[i, j], ha='center', va='center', color='red')\n",
    "plt.show()"
   ]
  },
  {
   "cell_type": "code",
   "execution_count": 48,
   "metadata": {},
   "outputs": [
    {
     "name": "stdout",
     "output_type": "stream",
     "text": [
      "              precision    recall  f1-score   support\n",
      "\n",
      "           1       0.82      0.94      0.88        79\n",
      "           2       0.58      0.30      0.40        23\n",
      "\n",
      "   micro avg       0.79      0.79      0.79       102\n",
      "   macro avg       0.70      0.62      0.64       102\n",
      "weighted avg       0.77      0.79      0.77       102\n",
      "\n"
     ]
    }
   ],
   "source": [
    "print(classification_report(y, model.predict(X)))"
   ]
  }
 ],
 "metadata": {
  "kernelspec": {
   "display_name": "Python 3",
   "language": "python",
   "name": "python3"
  },
  "language_info": {
   "codemirror_mode": {
    "name": "ipython",
    "version": 3
   },
   "file_extension": ".py",
   "mimetype": "text/x-python",
   "name": "python",
   "nbconvert_exporter": "python",
   "pygments_lexer": "ipython3",
   "version": "3.8.8"
  }
 },
 "nbformat": 4,
 "nbformat_minor": 4
}
